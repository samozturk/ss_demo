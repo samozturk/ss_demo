{
 "cells": [
  {
   "cell_type": "code",
   "execution_count": 3,
   "metadata": {},
   "outputs": [
    {
     "name": "stderr",
     "output_type": "stream",
     "text": [
      "/Library/Frameworks/Python.framework/Versions/3.12/lib/python3.12/site-packages/tqdm/auto.py:21: TqdmWarning: IProgress not found. Please update jupyter and ipywidgets. See https://ipywidgets.readthedocs.io/en/stable/user_install.html\n",
      "  from .autonotebook import tqdm as notebook_tqdm\n"
     ]
    }
   ],
   "source": [
    "import random\n",
    "import wikipedia\n",
    "from transformers import pipeline\n",
    "import numpy as np\n",
    "\n",
    "european_cities = [\n",
    "    \"Porto\",\n",
    "    \"Krakow\",\n",
    "    \"Edinburgh\",\n",
    "    \"Dubrovnik\",\n",
    "    \"Reykjavik\",\n",
    "    \"Bruges\",\n",
    "    \"Salzburg\",\n",
    "    \"Tallinn\",\n",
    "    \"Seville\",\n",
    "    \"Bologna\",\n",
    "    \"Ljubljana\",\n",
    "    \"Zurich\",\n",
    "    \"Copenhagen\",\n",
    "    \"Bratislava\",\n",
    "    \"Gothenburg\",\n",
    "    \"Marseille\",\n",
    "    \"Bucharest\",\n",
    "    \"Cologne\",\n",
    "    \"Riga\",\n",
    "    \"Thessaloniki\"\n",
    "]"
   ]
  },
  {
   "cell_type": "code",
   "execution_count": 4,
   "metadata": {},
   "outputs": [
    {
     "data": {
      "text/plain": [
       "\"Ljubljana (also known by other historical names) is the capital and largest city of Slovenia, located along a trade route between the northern Adriatic Sea and the Danube region, north of the country's largest marsh, inhabited since prehistoric times. It is the country's cultural, educational, economic, political and administrative center.\\nDuring antiquity, a Roman city called Emona stood in the area. The city was first mentioned in the first half of the 12th century. It was the historical capital of Carniola, one of the Slovene-inhabited parts of the Habsburg monarchy. It was under Habsburg rule from the Middle Ages until the dissolution of the Austro-Hungarian Empire in 1918. After World War II, Ljubljana became the capital of the Socialist Republic of Slovenia, part of the Socialist Federal Republic of Yugoslavia. The city retained this status until Slovenia became independent in 1991 and Ljubljana became the capital of the newly formed state.\""
      ]
     },
     "execution_count": 4,
     "metadata": {},
     "output_type": "execute_result"
    }
   ],
   "source": [
    "random_cities =random.sample(european_cities, 3)\n",
    "results = wikipedia.search(random_cities[0])\n",
    "wiki_pagename1 = results[0]\n",
    "page_content1 = wikipedia.summary(wiki_pagename1)\n",
    "page_content1"
   ]
  },
  {
   "cell_type": "code",
   "execution_count": 5,
   "metadata": {},
   "outputs": [
    {
     "data": {
      "text/plain": [
       "\"Zurich (German: Zürich; Alemannic German: Züri) is the largest city in Switzerland and the capital of the canton of Zurich. It is located in north-central Switzerland, at the northwestern tip of Lake Zurich. As of January 2023, the municipality had 443,037 inhabitants, the urban area 1.315 million (2009), and the Zurich metropolitan area 1.83 million (2011). Zurich is a hub for railways, roads, and air traffic. Both Zurich Airport and Zurich's main railway station are the largest and busiest in the country.\\nPermanently settled for over 2,000 years, Zurich was founded by the Romans, who called it Turicum. However, early settlements have been found dating back more than 6,400 years (although this only indicates human presence in the area and not the presence of a town that early). During the Middle Ages, Zurich gained the independent and privileged status of imperial immediacy and, in 1519, became a primary centre of the Protestant Reformation in Europe under the leadership of Huldrych Zwingli.\\nThe official language of Zurich is German, but the main spoken language is Zurich German, the local variant of the Alemannic Swiss German dialect.\\nAs one of Switzerland's primary financial centres, Zurich is home to many financial institutions and banking companies. Many museums and art galleries can be found in the city, including the Swiss National Museum and Kunsthaus. Schauspielhaus Zürich is generally considered to be one of the most important theatres in the German-speaking world.\""
      ]
     },
     "execution_count": 5,
     "metadata": {},
     "output_type": "execute_result"
    }
   ],
   "source": [
    "random_cities = random.sample(european_cities, 3)\n",
    "results = wikipedia.search(random_cities[0])\n",
    "wiki_pagename2 = results[0]\n",
    "page_content2 = wikipedia.summary(wiki_pagename2)\n",
    "page_content2"
   ]
  },
  {
   "cell_type": "code",
   "execution_count": 6,
   "metadata": {},
   "outputs": [
    {
     "data": {
      "text/plain": [
       "'Tallinn (, Estonian: [ˈtɑlʲːinː] ) is the capital and most populous city of Estonia. Situated on a bay in north Estonia, on the shore of the Gulf of Finland of the Baltic Sea, Tallinn has a population of about 461,000 (as of 2024) and administratively lies in the Harju maakond (county). Tallinn is the main governmental, financial, industrial, and cultural centre of Estonia. It is located 187 km (116 mi) northwest of the country\\'s second largest city, Tartu; however, only 80 km (50 mi) south of Helsinki, Finland, also 320 km (200 mi) west of Saint Petersburg, Russia, 300 km (190 mi) north of Riga, Latvia, and 380 km (240 mi) east of Stockholm, Sweden. From the 13th century until the first half of the 20th century, Tallinn was known in most of the world by variants of its other historical name Reval.\\nTallinn received Lübeck city rights in 1248; however, the earliest evidence of human population in the area dates back nearly 5,000 years. The medieval indigenous population of what is now Tallinn and north Estonia was one of the last \"pagan\" civilisations in Europe to adopt Christianity following the Papal-sanctioned Livonian Crusade in the 13th century. The first recorded claim over the place was laid by Denmark after a successful raid in 1219 led by King Valdemar II, followed by a period of alternating Scandinavian and Teutonic rulers. Due to the strategic location by the sea, its medieval port became a significant trade hub, especially in the 14–16th centuries, when Tallinn grew in importance as the northernmost member city of the Hanseatic League. Tallinn Old Town is one of the best-preserved medieval cities in Europe and is listed as a UNESCO World Heritage Site.\\nIn 2012, Tallinn had the highest number of startup companies per person among all capitals and larger cities in Europe. Tallinn is the birthplace of many international high-technology companies, including Skype and Wise. The city is home to the headquarters of the European Union\\'s IT agency, and to the NATO Cyber Defence Centre of Excellence.\\nIn 2007, Tallinn was listed among the top-10 digital cities in the world, and in 2022, Tallinn was listed among the top-10 \"medium-sized European cities of the future\".'"
      ]
     },
     "execution_count": 6,
     "metadata": {},
     "output_type": "execute_result"
    }
   ],
   "source": [
    "random_cities =random.sample(european_cities, 3)\n",
    "results = wikipedia.search(random_cities[0])\n",
    "wiki_pagename3 = results[0]\n",
    "page_content3 = wikipedia.summary(wiki_pagename3)\n",
    "page_content3"
   ]
  },
  {
   "cell_type": "markdown",
   "metadata": {},
   "source": [
    "## Embeddings"
   ]
  },
  {
   "cell_type": "code",
   "execution_count": 8,
   "metadata": {},
   "outputs": [
    {
     "name": "stderr",
     "output_type": "stream",
     "text": [
      "A parameter name that contains `beta` will be renamed internally to `bias`. Please use a different name to suppress this warning.\n",
      "A parameter name that contains `gamma` will be renamed internally to `weight`. Please use a different name to suppress this warning.\n",
      "A parameter name that contains `beta` will be renamed internally to `bias`. Please use a different name to suppress this warning.\n",
      "A parameter name that contains `gamma` will be renamed internally to `weight`. Please use a different name to suppress this warning.\n",
      "A parameter name that contains `beta` will be renamed internally to `bias`. Please use a different name to suppress this warning.\n",
      "A parameter name that contains `gamma` will be renamed internally to `weight`. Please use a different name to suppress this warning.\n",
      "A parameter name that contains `beta` will be renamed internally to `bias`. Please use a different name to suppress this warning.\n",
      "A parameter name that contains `gamma` will be renamed internally to `weight`. Please use a different name to suppress this warning.\n",
      "A parameter name that contains `beta` will be renamed internally to `bias`. Please use a different name to suppress this warning.\n",
      "A parameter name that contains `gamma` will be renamed internally to `weight`. Please use a different name to suppress this warning.\n",
      "A parameter name that contains `beta` will be renamed internally to `bias`. Please use a different name to suppress this warning.\n",
      "A parameter name that contains `gamma` will be renamed internally to `weight`. Please use a different name to suppress this warning.\n",
      "A parameter name that contains `beta` will be renamed internally to `bias`. Please use a different name to suppress this warning.\n",
      "A parameter name that contains `gamma` will be renamed internally to `weight`. Please use a different name to suppress this warning.\n",
      "A parameter name that contains `beta` will be renamed internally to `bias`. Please use a different name to suppress this warning.\n",
      "A parameter name that contains `gamma` will be renamed internally to `weight`. Please use a different name to suppress this warning.\n",
      "A parameter name that contains `beta` will be renamed internally to `bias`. Please use a different name to suppress this warning.\n",
      "A parameter name that contains `gamma` will be renamed internally to `weight`. Please use a different name to suppress this warning.\n",
      "A parameter name that contains `beta` will be renamed internally to `bias`. Please use a different name to suppress this warning.\n",
      "A parameter name that contains `gamma` will be renamed internally to `weight`. Please use a different name to suppress this warning.\n",
      "A parameter name that contains `beta` will be renamed internally to `bias`. Please use a different name to suppress this warning.\n",
      "A parameter name that contains `gamma` will be renamed internally to `weight`. Please use a different name to suppress this warning.\n",
      "A parameter name that contains `beta` will be renamed internally to `bias`. Please use a different name to suppress this warning.\n",
      "A parameter name that contains `gamma` will be renamed internally to `weight`. Please use a different name to suppress this warning.\n",
      "A parameter name that contains `beta` will be renamed internally to `bias`. Please use a different name to suppress this warning.\n",
      "A parameter name that contains `gamma` will be renamed internally to `weight`. Please use a different name to suppress this warning.\n",
      "A parameter name that contains `beta` will be renamed internally to `bias`. Please use a different name to suppress this warning.\n",
      "A parameter name that contains `gamma` will be renamed internally to `weight`. Please use a different name to suppress this warning.\n",
      "A parameter name that contains `beta` will be renamed internally to `bias`. Please use a different name to suppress this warning.\n",
      "A parameter name that contains `gamma` will be renamed internally to `weight`. Please use a different name to suppress this warning.\n",
      "A parameter name that contains `beta` will be renamed internally to `bias`. Please use a different name to suppress this warning.\n",
      "A parameter name that contains `gamma` will be renamed internally to `weight`. Please use a different name to suppress this warning.\n",
      "A parameter name that contains `beta` will be renamed internally to `bias`. Please use a different name to suppress this warning.\n",
      "A parameter name that contains `gamma` will be renamed internally to `weight`. Please use a different name to suppress this warning.\n",
      "A parameter name that contains `beta` will be renamed internally to `bias`. Please use a different name to suppress this warning.\n",
      "A parameter name that contains `gamma` will be renamed internally to `weight`. Please use a different name to suppress this warning.\n",
      "A parameter name that contains `beta` will be renamed internally to `bias`. Please use a different name to suppress this warning.\n",
      "A parameter name that contains `gamma` will be renamed internally to `weight`. Please use a different name to suppress this warning.\n",
      "A parameter name that contains `beta` will be renamed internally to `bias`. Please use a different name to suppress this warning.\n",
      "A parameter name that contains `gamma` will be renamed internally to `weight`. Please use a different name to suppress this warning.\n",
      "A parameter name that contains `beta` will be renamed internally to `bias`. Please use a different name to suppress this warning.\n",
      "A parameter name that contains `gamma` will be renamed internally to `weight`. Please use a different name to suppress this warning.\n",
      "A parameter name that contains `beta` will be renamed internally to `bias`. Please use a different name to suppress this warning.\n",
      "A parameter name that contains `gamma` will be renamed internally to `weight`. Please use a different name to suppress this warning.\n",
      "A parameter name that contains `beta` will be renamed internally to `bias`. Please use a different name to suppress this warning.\n",
      "A parameter name that contains `gamma` will be renamed internally to `weight`. Please use a different name to suppress this warning.\n",
      "A parameter name that contains `beta` will be renamed internally to `bias`. Please use a different name to suppress this warning.\n",
      "A parameter name that contains `gamma` will be renamed internally to `weight`. Please use a different name to suppress this warning.\n",
      "A parameter name that contains `beta` will be renamed internally to `bias`. Please use a different name to suppress this warning.\n",
      "A parameter name that contains `gamma` will be renamed internally to `weight`. Please use a different name to suppress this warning.\n",
      "A parameter name that contains `beta` will be renamed internally to `bias`. Please use a different name to suppress this warning.\n",
      "A parameter name that contains `gamma` will be renamed internally to `weight`. Please use a different name to suppress this warning.\n"
     ]
    },
    {
     "name": "stdout",
     "output_type": "stream",
     "text": [
      "Ljubljana vs Zurich: [[0.84674156]]\n",
      "Ljubljana vs Zurich: [[0.9255438]]\n",
      "Ljubljana vs Tallinn: [[0.82952684]]\n",
      "Ljubljana vs Tallinn: [[1.]]\n",
      "Zurich vs Tallinn: [[0.8399194]]\n",
      "Zurich vs Tallinn: [[0.97567177]]\n"
     ]
    }
   ],
   "source": [
    "# Import the required libraries from Hugging Face Transformers\n",
    "from transformers import AutoTokenizer, AutoModel\n",
    "\n",
    "# There are a lot of BERT based models available on HuggingFace,\n",
    "# and you have to pick one that is suitable for you.\n",
    "BERT_Model = \"bert-base-uncased\"\n",
    "\n",
    "# Initialise the BERT Transformer model\n",
    "tokenizer = AutoTokenizer.from_pretrained(BERT_Model)\n",
    "model = AutoModel.from_pretrained(BERT_Model)\n",
    "\n",
    "# Function to compute the sentence embedding using BERT\n",
    "def sent_embedding(sent):\n",
    "    \n",
    "    # Tokenize the sentence\n",
    "    # This basically converts the sentence into a sequence of tokens\n",
    "    # Each token is either a complete word or a sub-word\n",
    "    tokens = tokenizer.encode_plus(sent, max_length=128, truncation=True,\n",
    "                                    padding='max_length', return_tensors='pt')\n",
    "    \n",
    "    # Now feed the tokens into the model and get the embeddings as the output\n",
    "    outputs = model(**tokens)\n",
    "\n",
    "    # Create an empty list to store two different kinds of embeddings\n",
    "    embedding_list = []\n",
    "\n",
    "    # last_hidden_state contains the output at the last hidden layer of all the sentence tokens\n",
    "    # pooler_output contains the embedding corresponding to only the [CLS] token, which in a way represents the whole sentence. \n",
    "    # This pooler_output is, however, different from the embeddings corresponding to the 1st token of last_hidden_state\n",
    "    # Although both represent the CLS token, the pooler_output is after some more processing, \n",
    "    # and more suitable for use in sentence classification tasks.\n",
    "\n",
    "    # This stores the embedding corresponding to the CLS token\n",
    "    embedding_list.append(outputs.last_hidden_state[0][0].detach().numpy().reshape(1,-1))\n",
    "\n",
    "    # This stores the embedding corresponding to the pooler_output\n",
    "    embedding_list.append(outputs.pooler_output.detach().numpy())\n",
    "\n",
    "    return embedding_list\n",
    "\n",
    "sent1 = page_content1\n",
    "sent2 = page_content2\n",
    "sent3 = page_content3\n",
    "\n",
    "from sklearn.metrics.pairwise import cosine_similarity\n",
    "\n",
    "# Sentence similarity using CLS token embedding\n",
    "print(f\"{wiki_pagename1} vs {wiki_pagename2}: {cosine_similarity(sent_embedding(sent1)[0],sent_embedding(sent2)[0])}\")\n",
    "\n",
    "# Sentence similarity using pooler_output \n",
    "print(f\"{wiki_pagename1} vs {wiki_pagename2}: {cosine_similarity(sent_embedding(sent1)[1],sent_embedding(sent2)[1])}\")\n",
    "\n",
    "\n",
    "# Sentence similarity using CLS token embedding\n",
    "print(f\"{wiki_pagename1} vs {wiki_pagename3}: {cosine_similarity(sent_embedding(sent1)[0],sent_embedding(sent3)[0])}\")\n",
    "\n",
    "# Sentence similarity using pooler_output \n",
    "print(f\"{wiki_pagename1} vs {wiki_pagename3}: {cosine_similarity(sent_embedding(sent3)[1],sent_embedding(sent3)[1])}\")\n",
    "\n",
    "# Sentence similarity using CLS token embedding\n",
    "print(f\"{wiki_pagename2} vs {wiki_pagename3}: {cosine_similarity(sent_embedding(sent2)[0],sent_embedding(sent3)[0])}\")\n",
    "\n",
    "# Sentence similarity using pooler_output \n",
    "print(f\"{wiki_pagename2} vs {wiki_pagename3}: {cosine_similarity(sent_embedding(sent2)[1],sent_embedding(sent3)[1])}\")"
   ]
  },
  {
   "cell_type": "code",
   "execution_count": null,
   "metadata": {},
   "outputs": [],
   "source": []
  }
 ],
 "metadata": {
  "kernelspec": {
   "display_name": "poetry_venv",
   "language": "python",
   "name": "python3"
  },
  "language_info": {
   "codemirror_mode": {
    "name": "ipython",
    "version": 3
   },
   "file_extension": ".py",
   "mimetype": "text/x-python",
   "name": "python",
   "nbconvert_exporter": "python",
   "pygments_lexer": "ipython3",
   "version": "3.12.5"
  }
 },
 "nbformat": 4,
 "nbformat_minor": 2
}
