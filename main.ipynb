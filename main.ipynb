{
 "cells": [
  {
   "cell_type": "code",
   "execution_count": 61,
   "metadata": {},
   "outputs": [],
   "source": [
    "import random\n",
    "import wikipedia\n",
    "from transformers import pipeline\n",
    "import numpy as np\n",
    "\n",
    "european_cities = [\n",
    "    \"Porto\",\n",
    "    \"Krakow\",\n",
    "    \"Edinburgh\",\n",
    "    \"Dubrovnik\",\n",
    "    \"Reykjavik\",\n",
    "    \"Bruges\",\n",
    "    \"Salzburg\",\n",
    "    \"Tallinn\",\n",
    "    \"Seville\",\n",
    "    \"Bologna\",\n",
    "    \"Ljubljana\",\n",
    "    \"Zurich\",\n",
    "    \"Copenhagen\",\n",
    "    \"Bratislava\",\n",
    "    \"Gothenburg\",\n",
    "    \"Marseille\",\n",
    "    \"Bucharest\",\n",
    "    \"Cologne\",\n",
    "    \"Riga\",\n",
    "    \"Thessaloniki\"\n",
    "]"
   ]
  },
  {
   "cell_type": "code",
   "execution_count": 68,
   "metadata": {},
   "outputs": [
    {
     "data": {
      "text/plain": [
       "\"Edinburgh (  ED-in-bər-ə, Scots: [ˈɛdɪnbʌrə]; Scottish Gaelic: Dùn Èideann [t̪un ˈeːtʲən̪ˠ]) is the capital city of Scotland and one of its 32 council areas. The city is located in southeast Scotland and is bounded to the north by the Firth of Forth estuary and to the south by the Pentland Hills. Edinburgh had a population of\\n506,520 in mid-2020, making it the second-most populous city in Scotland and the seventh-most populous in the United Kingdom. The wider metropolitan area has a population of 912,490.\\nRecognised as the capital of Scotland since at least the 15th century, Edinburgh is the seat of the Scottish Government, the Scottish Parliament, the highest courts in Scotland, and the Palace of Holyroodhouse, the official residence of the British monarch in Scotland. It is also the annual venue of the General Assembly of the Church of Scotland. The city has long been a centre of education, particularly in the fields of medicine, Scottish law, literature, philosophy, the sciences and engineering. The University of Edinburgh, founded in 1582 and now one of three in the city, is considered one of the best research institutions in the world. It is the second-largest financial centre in the United Kingdom, the fourth largest in Europe, and the thirteenth largest internationally.\\nThe city is a cultural centre, and is the home of institutions including the National Museum of Scotland, the National Library of Scotland and the Scottish National Gallery. The city is also known for the Edinburgh International Festival and the Fringe, the latter being the world's largest annual international arts festival. Historic sites in Edinburgh include Edinburgh Castle, the Palace of Holyroodhouse, the churches of St. Giles, Greyfriars and the Canongate, and the extensive Georgian New Town built in the 18th/19th centuries. Edinburgh's Old Town and New Town together are listed as a UNESCO World Heritage Site, which has been managed by Edinburgh World Heritage since 1999. The city's historical and cultural attractions have made it the UK's second-most visited tourist destination, attracting 4.9 million visits, including 2.4 million from overseas in 2018.\\nEdinburgh is governed by the City of Edinburgh Council, a unitary authority. The City of Edinburgh council area had an estimated population of 514,990 in mid-2021, and includes outlying towns and villages which are not part of Edinburgh proper. The city is in the Lothian region and was historically part of the shire of Midlothian (also called Edinburghshire).\""
      ]
     },
     "execution_count": 68,
     "metadata": {},
     "output_type": "execute_result"
    }
   ],
   "source": [
    "random_cities =random.sample(european_cities, 3)\n",
    "results = wikipedia.search(random_cities[0])\n",
    "wiki_pagename1 = results[0]\n",
    "page_content1 = wikipedia.summary(wiki_pagename1)\n",
    "page_content1"
   ]
  },
  {
   "cell_type": "code",
   "execution_count": 69,
   "metadata": {},
   "outputs": [
    {
     "data": {
      "text/plain": [
       "\"Copenhagen (Danish: København [kʰøpm̩ˈhɑwˀn] ) is the capital and most populous city of Denmark, with a population of 1.4 million in the urban area. The city is situated on the islands of Zealand and Amager, separated from Malmö, Sweden, by the Øresund strait. The Øresund Bridge connects the two cities by rail and road.\\nOriginally a Viking fishing village established in the 10th century in the vicinity of what is now Gammel Strand, Copenhagen became the capital of Denmark in the early 15th century. During the 16th century, the city served as the de facto capital of the Kalmar Union and the seat of the Union's monarchy, which governed most of the modern-day Nordic region as part of a Danish confederation with Sweden and Norway. The city flourished as the cultural and economic centre of Scandinavia during the Renaissance, and by the 17th century, it had become a regional centre of power, serving as the heart of the Danish government and military. During the 18th century, Copenhagen suffered from a devastating plague outbreak and urban conflagrations, and proceeded to undergo several major redevelopment efforts, which included the construction of the prestigious district of Frederiksstaden and the establishment of cultural institutions such as the Royal Theatre and the Royal Academy of Fine Arts. The city also became the centre of the Danish slave trade during this period. In 1807, the city was bombarded by a British fleet during the Napoleonic Wars, before the Danish Golden Age brought a Neoclassical look to Copenhagen's architecture. After World War II, the Finger Plan fostered the development of housing and businesses along the five urban railway routes emanating from the city centre.\\nSince the turn of the 21st century, Copenhagen has seen strong urban and cultural development, facilitated by investment in its institutions and infrastructure. The city is the cultural, economic and governmental centre of Denmark; it is one of the major financial centres of Northern Europe with the Copenhagen Stock Exchange. Copenhagen's economy has developed rapidly in the service sector, especially through initiatives in information technology, pharmaceuticals and clean technology. Since the completion of the Øresund Bridge, Copenhagen has increasingly integrated with the Swedish province of Scania and its largest city, Malmö, forming the Øresund Region. With several bridges connecting the various districts, the cityscape is characterised by parks, promenades, and waterfronts. Copenhagen's landmarks such as Tivoli Gardens, The Little Mermaid statue, the Amalienborg and Christiansborg palaces, Rosenborg Castle, Frederik's Church, Børsen and many museums, restaurants and nightclubs are significant tourist attractions.\\nCopenhagen is home to the University of Copenhagen, the Technical University of Denmark, Copenhagen Business School, and the IT University of Copenhagen. The University of Copenhagen, founded in 1479, is the oldest university in Denmark. Copenhagen is home to the football clubs F.C. Copenhagen and Brøndby IF. The annual Copenhagen Marathon was established in 1980. Copenhagen is one of the most bicycle-friendly cities in the world. Movia is the public mass transit company serving all of eastern Denmark, except Bornholm. The Copenhagen Metro, launched in 2002, serves central Copenhagen. Additionally, the Copenhagen S-train, the Lokaltog (private railway), and the Coast Line network serve and connect central Copenhagen to outlying boroughs. Serving roughly 2.5 million passengers a month, Copenhagen Airport, Kastrup, is the busiest airport in the Nordic countries.\""
      ]
     },
     "execution_count": 69,
     "metadata": {},
     "output_type": "execute_result"
    }
   ],
   "source": [
    "random_cities = random.sample(european_cities, 3)\n",
    "results = wikipedia.search(random_cities[0])\n",
    "wiki_pagename2 = results[0]\n",
    "page_content2 = wikipedia.summary(wiki_pagename2)\n",
    "page_content2"
   ]
  },
  {
   "cell_type": "code",
   "execution_count": 70,
   "metadata": {},
   "outputs": [
    {
     "data": {
      "text/plain": [
       "\"Gothenburg ( ; abbreviated Gbg; Swedish: Göteborg [jœtɛˈbɔrj] ) is the capital of Västra Götaland County in Sweden. It is the second-largest city in Sweden, after the capital Stockholm, and the fifth-largest in the Nordic countries. It is situated by the Kattegat on the west coast of Sweden, with a population of approximately 600,000 in the city proper and about 1.1 million inhabitants in the metropolitan area.\\nKing Gustavus Adolphus founded Gothenburg by royal charter in 1621 as a heavily fortified, primarily Dutch, trading colony. In addition to the generous privileges given to his Dutch allies during the ongoing Thirty Years' War, e.g. tax relaxation, he also attracted significant numbers of his German and Scottish allies to populate his only town on the western coast; this trading status was furthered by the founding of the Swedish East India Company. At a key strategic location at the mouth of the Göta älv, where Scandinavia's largest drainage basin enters the sea, the Port of Gothenburg is now the largest port in the Nordic countries. The presence of the University of Gothenburg and Chalmers University of Technology has led Gothenburg to become home to many students. Volvo was founded in Gothenburg in 1927, with both the original Volvo Group and the separate Volvo Car Corporation still headquartered on the island of Hisingen in the city. Other key companies in the area are AstraZeneca, Ericsson, and SKF.\\nGothenburg is served by Göteborg Landvetter Airport 25 km (16 mi) southeast of the city centre. The smaller Göteborg City Airport, 15 km (9.3 mi) from the city centre, was closed to regular airline traffic in 2015. The city hosts the Gothia Cup, the world's largest youth football tournament, and the Göteborg Basketball Festival, Europe's largest youth basketball tournament, alongside some of the largest annual events in Scandinavia. The Gothenburg Film Festival, held in January since 1979, is the leading Scandinavian film festival and attracts over 155,000 visitors each year. In summer, a wide variety of music festivals are held in the city, including the popular Way Out West Festival.\""
      ]
     },
     "execution_count": 70,
     "metadata": {},
     "output_type": "execute_result"
    }
   ],
   "source": [
    "random_cities =random.sample(european_cities, 3)\n",
    "results = wikipedia.search(random_cities[0])\n",
    "wiki_pagename3 = results[0]\n",
    "page_content3 = wikipedia.summary(wiki_pagename3)\n",
    "page_content3"
   ]
  },
  {
   "cell_type": "markdown",
   "metadata": {},
   "source": [
    "## Embeddings"
   ]
  },
  {
   "cell_type": "code",
   "execution_count": 72,
   "metadata": {},
   "outputs": [
    {
     "name": "stderr",
     "output_type": "stream",
     "text": [
      "A parameter name that contains `beta` will be renamed internally to `bias`. Please use a different name to suppress this warning.\n",
      "A parameter name that contains `gamma` will be renamed internally to `weight`. Please use a different name to suppress this warning.\n",
      "A parameter name that contains `beta` will be renamed internally to `bias`. Please use a different name to suppress this warning.\n",
      "A parameter name that contains `gamma` will be renamed internally to `weight`. Please use a different name to suppress this warning.\n",
      "A parameter name that contains `beta` will be renamed internally to `bias`. Please use a different name to suppress this warning.\n",
      "A parameter name that contains `gamma` will be renamed internally to `weight`. Please use a different name to suppress this warning.\n",
      "A parameter name that contains `beta` will be renamed internally to `bias`. Please use a different name to suppress this warning.\n",
      "A parameter name that contains `gamma` will be renamed internally to `weight`. Please use a different name to suppress this warning.\n",
      "A parameter name that contains `beta` will be renamed internally to `bias`. Please use a different name to suppress this warning.\n",
      "A parameter name that contains `gamma` will be renamed internally to `weight`. Please use a different name to suppress this warning.\n",
      "A parameter name that contains `beta` will be renamed internally to `bias`. Please use a different name to suppress this warning.\n",
      "A parameter name that contains `gamma` will be renamed internally to `weight`. Please use a different name to suppress this warning.\n",
      "A parameter name that contains `beta` will be renamed internally to `bias`. Please use a different name to suppress this warning.\n",
      "A parameter name that contains `gamma` will be renamed internally to `weight`. Please use a different name to suppress this warning.\n",
      "A parameter name that contains `beta` will be renamed internally to `bias`. Please use a different name to suppress this warning.\n",
      "A parameter name that contains `gamma` will be renamed internally to `weight`. Please use a different name to suppress this warning.\n",
      "A parameter name that contains `beta` will be renamed internally to `bias`. Please use a different name to suppress this warning.\n",
      "A parameter name that contains `gamma` will be renamed internally to `weight`. Please use a different name to suppress this warning.\n",
      "A parameter name that contains `beta` will be renamed internally to `bias`. Please use a different name to suppress this warning.\n",
      "A parameter name that contains `gamma` will be renamed internally to `weight`. Please use a different name to suppress this warning.\n",
      "A parameter name that contains `beta` will be renamed internally to `bias`. Please use a different name to suppress this warning.\n",
      "A parameter name that contains `gamma` will be renamed internally to `weight`. Please use a different name to suppress this warning.\n",
      "A parameter name that contains `beta` will be renamed internally to `bias`. Please use a different name to suppress this warning.\n",
      "A parameter name that contains `gamma` will be renamed internally to `weight`. Please use a different name to suppress this warning.\n",
      "A parameter name that contains `beta` will be renamed internally to `bias`. Please use a different name to suppress this warning.\n",
      "A parameter name that contains `gamma` will be renamed internally to `weight`. Please use a different name to suppress this warning.\n",
      "A parameter name that contains `beta` will be renamed internally to `bias`. Please use a different name to suppress this warning.\n",
      "A parameter name that contains `gamma` will be renamed internally to `weight`. Please use a different name to suppress this warning.\n",
      "A parameter name that contains `beta` will be renamed internally to `bias`. Please use a different name to suppress this warning.\n",
      "A parameter name that contains `gamma` will be renamed internally to `weight`. Please use a different name to suppress this warning.\n",
      "A parameter name that contains `beta` will be renamed internally to `bias`. Please use a different name to suppress this warning.\n",
      "A parameter name that contains `gamma` will be renamed internally to `weight`. Please use a different name to suppress this warning.\n",
      "A parameter name that contains `beta` will be renamed internally to `bias`. Please use a different name to suppress this warning.\n",
      "A parameter name that contains `gamma` will be renamed internally to `weight`. Please use a different name to suppress this warning.\n",
      "A parameter name that contains `beta` will be renamed internally to `bias`. Please use a different name to suppress this warning.\n",
      "A parameter name that contains `gamma` will be renamed internally to `weight`. Please use a different name to suppress this warning.\n",
      "A parameter name that contains `beta` will be renamed internally to `bias`. Please use a different name to suppress this warning.\n",
      "A parameter name that contains `gamma` will be renamed internally to `weight`. Please use a different name to suppress this warning.\n",
      "A parameter name that contains `beta` will be renamed internally to `bias`. Please use a different name to suppress this warning.\n",
      "A parameter name that contains `gamma` will be renamed internally to `weight`. Please use a different name to suppress this warning.\n",
      "A parameter name that contains `beta` will be renamed internally to `bias`. Please use a different name to suppress this warning.\n",
      "A parameter name that contains `gamma` will be renamed internally to `weight`. Please use a different name to suppress this warning.\n",
      "A parameter name that contains `beta` will be renamed internally to `bias`. Please use a different name to suppress this warning.\n",
      "A parameter name that contains `gamma` will be renamed internally to `weight`. Please use a different name to suppress this warning.\n",
      "A parameter name that contains `beta` will be renamed internally to `bias`. Please use a different name to suppress this warning.\n",
      "A parameter name that contains `gamma` will be renamed internally to `weight`. Please use a different name to suppress this warning.\n",
      "A parameter name that contains `beta` will be renamed internally to `bias`. Please use a different name to suppress this warning.\n",
      "A parameter name that contains `gamma` will be renamed internally to `weight`. Please use a different name to suppress this warning.\n",
      "A parameter name that contains `beta` will be renamed internally to `bias`. Please use a different name to suppress this warning.\n",
      "A parameter name that contains `gamma` will be renamed internally to `weight`. Please use a different name to suppress this warning.\n",
      "A parameter name that contains `beta` will be renamed internally to `bias`. Please use a different name to suppress this warning.\n",
      "A parameter name that contains `gamma` will be renamed internally to `weight`. Please use a different name to suppress this warning.\n"
     ]
    },
    {
     "name": "stdout",
     "output_type": "stream",
     "text": [
      "Edinburgh vs Copenhagen: [[0.6982373]]\n",
      "Edinburgh vs Copenhagen: [[-0.22247049]]\n",
      "Edinburgh vs Gothenburg: [[0.8446304]]\n",
      "Edinburgh vs Gothenburg: [[0.9999999]]\n",
      "Copenhagen vs Gothenburg: [[0.81458306]]\n",
      "Copenhagen vs Gothenburg: [[0.2378582]]\n"
     ]
    }
   ],
   "source": [
    "# Import the required libraries from Hugging Face Transformers\n",
    "from transformers import AutoTokenizer, AutoModel\n",
    "\n",
    "# There are a lot of BERT based models available on HuggingFace,\n",
    "# and you have to pick one that is suitable for you.\n",
    "BERT_Model = \"bert-base-uncased\"\n",
    "\n",
    "# Initialise the BERT Transformer model\n",
    "tokenizer = AutoTokenizer.from_pretrained(BERT_Model)\n",
    "model = AutoModel.from_pretrained(BERT_Model)\n",
    "\n",
    "# Function to compute the sentence embedding using BERT\n",
    "def sent_embedding(sent):\n",
    "    \n",
    "    # Tokenize the sentence\n",
    "    # This basically converts the sentence into a sequence of tokens\n",
    "    # Each token is either a complete word or a sub-word\n",
    "    tokens = tokenizer.encode_plus(sent, max_length=128, truncation=True,\n",
    "                                    padding='max_length', return_tensors='pt')\n",
    "    \n",
    "    # Now feed the tokens into the model and get the embeddings as the output\n",
    "    outputs = model(**tokens)\n",
    "\n",
    "    # Create an empty list to store two different kinds of embeddings\n",
    "    embedding_list = []\n",
    "\n",
    "    # last_hidden_state contains the output at the last hidden layer of all the sentence tokens\n",
    "    # pooler_output contains the embedding corresponding to only the [CLS] token, which in a way represents the whole sentence. \n",
    "    # This pooler_output is, however, different from the embeddings corresponding to the 1st token of last_hidden_state\n",
    "    # Although both represent the CLS token, the pooler_output is after some more processing, \n",
    "    # and more suitable for use in sentence classification tasks.\n",
    "\n",
    "    # This stores the embedding corresponding to the CLS token\n",
    "    embedding_list.append(outputs.last_hidden_state[0][0].detach().numpy().reshape(1,-1))\n",
    "\n",
    "    # This stores the embedding corresponding to the pooler_output\n",
    "    embedding_list.append(outputs.pooler_output.detach().numpy())\n",
    "\n",
    "    return embedding_list\n",
    "\n",
    "sent1 = page_content1\n",
    "sent2 = page_content2\n",
    "sent3 = page_content3\n",
    "\n",
    "from sklearn.metrics.pairwise import cosine_similarity\n",
    "\n",
    "# Sentence similarity using CLS token embedding\n",
    "print(f\"{wiki_pagename1} vs {wiki_pagename2}: {cosine_similarity(sent_embedding(sent1)[0],sent_embedding(sent2)[0])}\")\n",
    "\n",
    "# Sentence similarity using pooler_output \n",
    "print(f\"{wiki_pagename1} vs {wiki_pagename2}: {cosine_similarity(sent_embedding(sent1)[1],sent_embedding(sent2)[1])}\")\n",
    "\n",
    "\n",
    "# Sentence similarity using CLS token embedding\n",
    "print(f\"{wiki_pagename1} vs {wiki_pagename3}: {cosine_similarity(sent_embedding(sent1)[0],sent_embedding(sent3)[0])}\")\n",
    "\n",
    "# Sentence similarity using pooler_output \n",
    "print(f\"{wiki_pagename1} vs {wiki_pagename3}: {cosine_similarity(sent_embedding(sent3)[1],sent_embedding(sent3)[1])}\")\n",
    "\n",
    "# Sentence similarity using CLS token embedding\n",
    "print(f\"{wiki_pagename2} vs {wiki_pagename3}: {cosine_similarity(sent_embedding(sent2)[0],sent_embedding(sent3)[0])}\")\n",
    "\n",
    "# Sentence similarity using pooler_output \n",
    "print(f\"{wiki_pagename2} vs {wiki_pagename3}: {cosine_similarity(sent_embedding(sent2)[1],sent_embedding(sent3)[1])}\")"
   ]
  },
  {
   "cell_type": "code",
   "execution_count": null,
   "metadata": {},
   "outputs": [],
   "source": []
  }
 ],
 "metadata": {
  "kernelspec": {
   "display_name": "poetry_venv",
   "language": "python",
   "name": "python3"
  },
  "language_info": {
   "codemirror_mode": {
    "name": "ipython",
    "version": 3
   },
   "file_extension": ".py",
   "mimetype": "text/x-python",
   "name": "python",
   "nbconvert_exporter": "python",
   "pygments_lexer": "ipython3",
   "version": "3.12.4"
  }
 },
 "nbformat": 4,
 "nbformat_minor": 2
}
